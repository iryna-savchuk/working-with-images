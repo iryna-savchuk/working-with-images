{
 "cells": [
  {
   "cell_type": "code",
   "execution_count": 1,
   "id": "653b80ae",
   "metadata": {},
   "outputs": [],
   "source": [
    "import numpy as np\n",
    "import matplotlib.pyplot as plt\n",
    "\n",
    "import torch \n",
    "import torchvision\n",
    "import torch.nn as nn\n",
    "import torch.nn.functional as F\n",
    "import torch.optim as optim\n",
    "import torchvision.transforms as transforms"
   ]
  },
  {
   "cell_type": "code",
   "execution_count": 2,
   "id": "2eca540c",
   "metadata": {},
   "outputs": [],
   "source": [
    "# Mean and std have been calculated in \"2. Image Preprocessing in PyTorch\"\n",
    "\n",
    "mean = [0.49159133, 0.48234585, 0.44671956]\n",
    "std = [0.23819901, 0.23482068, 0.2526521]"
   ]
  },
  {
   "cell_type": "code",
   "execution_count": 3,
   "id": "00d2666c",
   "metadata": {},
   "outputs": [],
   "source": [
    "train_transform = transforms.Compose([\n",
    "    transforms.Resize(32),\n",
    "    transforms.RandomHorizontalFlip(), \n",
    "    transforms.ToTensor(),\n",
    "    transforms.Normalize(mean, std)\n",
    "])\n",
    "\n",
    "\n",
    "test_transform = transforms.Compose([\n",
    "    transforms.Resize(32),\n",
    "    transforms.ToTensor(),\n",
    "    transforms.Normalize(mean, std)\n",
    "])"
   ]
  },
  {
   "cell_type": "code",
   "execution_count": 4,
   "id": "93ffeec8",
   "metadata": {},
   "outputs": [
    {
     "name": "stdout",
     "output_type": "stream",
     "text": [
      "Files already downloaded and verified\n",
      "Files already downloaded and verified\n"
     ]
    }
   ],
   "source": [
    "# Loading images in PyTorch dataset\n",
    "trainset = torchvision.datasets.CIFAR10(root='.datasets/cifar10/train',\n",
    "                                        train=True,\n",
    "                                        download= True, \n",
    "                                        transform=train_transform)\n",
    "\n",
    "\n",
    "testset = torchvision.datasets.CIFAR10(root='.datasets/cifar10/train',\n",
    "                                       train=False,\n",
    "                                       download= True, \n",
    "                                       transform=test_transform)"
   ]
  },
  {
   "cell_type": "code",
   "execution_count": 5,
   "id": "de9d7669",
   "metadata": {},
   "outputs": [],
   "source": [
    "trainloader = torch.utils.data.DataLoader(trainset, \n",
    "                                          batch_size=16, \n",
    "                                          shuffle=True,\n",
    "                                          num_workers=2)\n",
    "\n",
    "testloader = torch.utils.data.DataLoader(testset, \n",
    "                                         batch_size=16, \n",
    "                                         shuffle=False,\n",
    "                                         num_workers=2)"
   ]
  },
  {
   "cell_type": "code",
   "execution_count": 6,
   "id": "f768731c",
   "metadata": {},
   "outputs": [
    {
     "name": "stdout",
     "output_type": "stream",
     "text": [
      "['airplane', 'automobile', 'bird', 'cat', 'deer', 'dog', 'frog', 'horse', 'ship', 'truck']\n"
     ]
    }
   ],
   "source": [
    "class_names = trainset.classes\n",
    "print(class_names)"
   ]
  },
  {
   "cell_type": "code",
   "execution_count": 7,
   "id": "b0b31aa9",
   "metadata": {},
   "outputs": [
    {
     "data": {
      "text/plain": [
       "torch.Size([16, 3, 32, 32])"
      ]
     },
     "execution_count": 7,
     "metadata": {},
     "output_type": "execute_result"
    }
   ],
   "source": [
    "# Let's have a look at one batch of images\n",
    "img, label = iter(trainloader).next()\n",
    "img.shape"
   ]
  },
  {
   "cell_type": "code",
   "execution_count": 8,
   "id": "7d704594",
   "metadata": {},
   "outputs": [
    {
     "data": {
      "text/plain": [
       "tensor([7, 1, 6, 3, 5, 5, 8, 4, 4, 1, 4, 6, 2, 1, 4, 4])"
      ]
     },
     "execution_count": 8,
     "metadata": {},
     "output_type": "execute_result"
    }
   ],
   "source": [
    "label"
   ]
  },
  {
   "cell_type": "markdown",
   "id": "c9e300b8",
   "metadata": {},
   "source": [
    "### Setting up CNN"
   ]
  },
  {
   "cell_type": "code",
   "execution_count": 9,
   "id": "126bcf75",
   "metadata": {},
   "outputs": [],
   "source": [
    "in_size = 3 # the number of channels in the input image\n",
    "\n",
    "hid1_size = 16 # we will have 2 convolutional layers\n",
    "hid2_size = 32\n",
    "\n",
    "out1_size = 400 # we will have 2 linear layers\n",
    "out2_size = 10\n",
    "\n",
    "k_conv_size = 5 # size of kernel 5*5"
   ]
  },
  {
   "cell_type": "code",
   "execution_count": 10,
   "id": "2df8c1d4",
   "metadata": {},
   "outputs": [],
   "source": [
    "class ConvNet(nn.Module):\n",
    "    \n",
    "    def __init__(self):\n",
    "        \n",
    "        super(ConvNet, self).__init__()\n",
    "        \n",
    "        self.layer1 = nn.Sequential(\n",
    "            nn.Conv2d(in_size, hid1_size, k_conv_size),    # output size: 28*28\n",
    "            nn.BatchNorm2d(hid1_size),                 \n",
    "            nn.ReLU(),\n",
    "            nn.MaxPool2d(kernel_size=2))                   # output size: 14*14\n",
    "        \n",
    "        self.layer2 = nn.Sequential(\n",
    "            nn.Conv2d(hid1_size, hid2_size, k_conv_size),  # output size: 10*10\n",
    "            nn.BatchNorm2d(hid2_size),\n",
    "            nn.ReLU(),\n",
    "            nn.MaxPool2d(kernel_size=2))                   # output size: 5*5\n",
    "        \n",
    "        self.layer3 = nn.Sequential(\n",
    "            nn.Linear(hid2_size * k_conv_size * k_conv_size, out1_size),\n",
    "            nn.ReLU(),\n",
    "            nn.Dropout(0.5),\n",
    "            nn.Linear(out1_size, out2_size))\n",
    "        \n",
    "        \n",
    "    def forward(self, x):\n",
    "        \n",
    "        out = self.layer1(x)\n",
    "        out = self.layer2(out)\n",
    "        out = out.reshape(out.size(0), -1)\n",
    "        out = self.layer3(out)\n",
    "        \n",
    "        return F.log_softmax(out, dim=-1)"
   ]
  },
  {
   "cell_type": "markdown",
   "id": "551e0e8d",
   "metadata": {},
   "source": [
    "### Training the CNN"
   ]
  },
  {
   "cell_type": "code",
   "execution_count": 11,
   "id": "fca5d4a8",
   "metadata": {},
   "outputs": [
    {
     "name": "stdout",
     "output_type": "stream",
     "text": [
      "cpu\n"
     ]
    }
   ],
   "source": [
    "model = ConvNet() # creating instance of the model\n",
    "\n",
    "device = torch.device(\"cuda:0\" if torch.cuda.is_available() else \"cpu\")\n",
    "print(device)"
   ]
  },
  {
   "cell_type": "code",
   "execution_count": 12,
   "id": "1470d5ea",
   "metadata": {},
   "outputs": [
    {
     "data": {
      "text/plain": [
       "ConvNet(\n",
       "  (layer1): Sequential(\n",
       "    (0): Conv2d(3, 16, kernel_size=(5, 5), stride=(1, 1))\n",
       "    (1): BatchNorm2d(16, eps=1e-05, momentum=0.1, affine=True, track_running_stats=True)\n",
       "    (2): ReLU()\n",
       "    (3): MaxPool2d(kernel_size=2, stride=2, padding=0, dilation=1, ceil_mode=False)\n",
       "  )\n",
       "  (layer2): Sequential(\n",
       "    (0): Conv2d(16, 32, kernel_size=(5, 5), stride=(1, 1))\n",
       "    (1): BatchNorm2d(32, eps=1e-05, momentum=0.1, affine=True, track_running_stats=True)\n",
       "    (2): ReLU()\n",
       "    (3): MaxPool2d(kernel_size=2, stride=2, padding=0, dilation=1, ceil_mode=False)\n",
       "  )\n",
       "  (layer3): Sequential(\n",
       "    (0): Linear(in_features=800, out_features=400, bias=True)\n",
       "    (1): ReLU()\n",
       "    (2): Dropout(p=0.5, inplace=False)\n",
       "    (3): Linear(in_features=400, out_features=10, bias=True)\n",
       "  )\n",
       ")"
      ]
     },
     "execution_count": 12,
     "metadata": {},
     "output_type": "execute_result"
    }
   ],
   "source": [
    "model.to(device)"
   ]
  },
  {
   "cell_type": "code",
   "execution_count": 13,
   "id": "ec45ac3c",
   "metadata": {},
   "outputs": [],
   "source": [
    "learning_rate = 0.0005\n",
    "criterion = nn.NLLLoss()\n",
    "optimizer = optim.Adam(model.parameters(), \n",
    "                       lr = learning_rate)"
   ]
  },
  {
   "cell_type": "code",
   "execution_count": 14,
   "id": "27701b46",
   "metadata": {},
   "outputs": [],
   "source": [
    "total_step = len(trainloader)\n",
    "num_epochs = 15"
   ]
  },
  {
   "cell_type": "code",
   "execution_count": 15,
   "id": "e9e82a48",
   "metadata": {},
   "outputs": [
    {
     "name": "stdout",
     "output_type": "stream",
     "text": [
      "Epoch [1/15], Step [3000/3125], Loss: 1.5703\n",
      "Epoch [2/15], Step [3000/3125], Loss: 0.7970\n",
      "Epoch [3/15], Step [3000/3125], Loss: 1.3812\n",
      "Epoch [4/15], Step [3000/3125], Loss: 1.2825\n",
      "Epoch [5/15], Step [3000/3125], Loss: 0.7295\n",
      "Epoch [6/15], Step [3000/3125], Loss: 1.0020\n",
      "Epoch [7/15], Step [3000/3125], Loss: 0.9729\n",
      "Epoch [8/15], Step [3000/3125], Loss: 0.8256\n",
      "Epoch [9/15], Step [3000/3125], Loss: 0.7601\n",
      "Epoch [10/15], Step [3000/3125], Loss: 0.9721\n",
      "Epoch [11/15], Step [3000/3125], Loss: 0.6415\n",
      "Epoch [12/15], Step [3000/3125], Loss: 0.7700\n",
      "Epoch [13/15], Step [3000/3125], Loss: 0.7804\n",
      "Epoch [14/15], Step [3000/3125], Loss: 0.6279\n",
      "Epoch [15/15], Step [3000/3125], Loss: 0.7386\n",
      "Finished Training\n"
     ]
    }
   ],
   "source": [
    "loss_values = list()\n",
    "\n",
    "for epoch in range(num_epochs):\n",
    "    \n",
    "    for i, (images, labels) in enumerate(trainloader):\n",
    "        \n",
    "        images, labels = images.to(device), labels.to(device)\n",
    "        outputs = model(images)\n",
    "        loss = criterion(outputs, labels)\n",
    "\n",
    "        optimizer.zero_grad()\n",
    "        loss.backward()   \n",
    "        optimizer.step()\n",
    "        \n",
    "        if (i+1)%3000==0:\n",
    "            print('Epoch [{}/{}], Step [{}/{}], Loss: {:.4f}'.\n",
    "                 format(epoch+1, num_epochs, i+1, total_step, loss.item()))\n",
    "            \n",
    "            loss_values.append(loss.item())\n",
    "            \n",
    "print('Finished Training')"
   ]
  },
  {
   "cell_type": "code",
   "execution_count": 16,
   "id": "2c28a417",
   "metadata": {},
   "outputs": [
    {
     "data": {
      "text/plain": [
       "Text(0, 0.5, 'Loss')"
      ]
     },
     "execution_count": 16,
     "metadata": {},
     "output_type": "execute_result"
    },
    {
     "data": {
      "image/png": "[encoded data removed]",
      "text/plain": [
       "<Figure size 1200x1000 with 1 Axes>"
      ]
     },
     "metadata": {},
     "output_type": "display_data"
    }
   ],
   "source": [
    "# Visualizing the Loss Values for the training epochs\n",
    "x = (range(num_epochs))\n",
    "plt.figure(figsize= (12, 10))\n",
    "plt.plot(x, loss_values)\n",
    "plt.xlabel('Epoch')\n",
    "plt.ylabel('Loss')"
   ]
  },
  {
   "cell_type": "markdown",
   "id": "b1147550",
   "metadata": {},
   "source": [
    "### Using Model on Test Sataset (Making Predictions)"
   ]
  },
  {
   "cell_type": "code",
   "execution_count": 17,
   "id": "567c1ae6",
   "metadata": {},
   "outputs": [
    {
     "name": "stdout",
     "output_type": "stream",
     "text": [
      "Accuracy of the model on 10000 test images: 74.95%\n"
     ]
    }
   ],
   "source": [
    "model.eval()\n",
    "\n",
    "with torch.no_grad():\n",
    "    correct = 0\n",
    "    total = 0\n",
    "    \n",
    "    for images, labels in testloader:\n",
    "        images, labels = images.to(device), labels.to(device)\n",
    "        outputs = model(images)\n",
    "        _, predicted = torch.max(outputs.data, 1)\n",
    "        total += label.size(0)\n",
    "        correct += (predicted==labels).sum().item()\n",
    "\n",
    "    print('Accuracy of the model on 10000 test images: {}%'\\\n",
    "          .format(100*correct/total))"
   ]
  },
  {
   "cell_type": "code",
   "execution_count": 18,
   "id": "30607a8f",
   "metadata": {},
   "outputs": [
    {
     "data": {
      "text/plain": [
       "torch.Size([3, 32, 32])"
      ]
     },
     "execution_count": 18,
     "metadata": {},
     "output_type": "execute_result"
    }
   ],
   "source": [
    "# Having a look at a sample of predictions\n",
    "\n",
    "sample_img, _ = testset[23]\n",
    "sample_img.shape"
   ]
  },
  {
   "cell_type": "code",
   "execution_count": 19,
   "id": "21ae6e32",
   "metadata": {},
   "outputs": [],
   "source": [
    "sample_img = np.transpose(sample_img, (1,2,0))"
   ]
  },
  {
   "cell_type": "code",
   "execution_count": 20,
   "id": "c5450137",
   "metadata": {},
   "outputs": [
    {
     "data": {
      "text/plain": [
       "<matplotlib.image.AxesImage at 0x11e19c700>"
      ]
     },
     "execution_count": 20,
     "metadata": {},
     "output_type": "execute_result"
    },
    {
     "data": {
      "image/png": "[encoded data removed]",
      "text/plain": [
       "<Figure size 600x600 with 1 Axes>"
      ]
     },
     "metadata": {},
     "output_type": "display_data"
    }
   ],
   "source": [
    "m, M = img.min(), img.max()\n",
    "sample_img = (1/(abs(m)*M)) * sample_img + 0.5\n",
    "\n",
    "plt.figure(figsize= (6, 6))\n",
    "plt.imshow(sample_img)"
   ]
  },
  {
   "cell_type": "code",
   "execution_count": 21,
   "id": "8f79ac1d",
   "metadata": {},
   "outputs": [
    {
     "name": "stdout",
     "output_type": "stream",
     "text": [
      "Actual label:  9\n",
      "Predicted label:  9\n"
     ]
    }
   ],
   "source": [
    "test_img, test_label = testset[23]\n",
    "test_img = test_img.reshape(-1, 3, 32, 32)\n",
    "\n",
    "print(\"Actual label: \", test_label)\n",
    "\n",
    "out_predict = model(test_img.to(device))\n",
    "_, predicted = torch.max(out_predict.data, 1)\n",
    "\n",
    "print(\"Predicted label: \", predicted.item())"
   ]
  },
  {
   "cell_type": "code",
   "execution_count": 22,
   "id": "ae9fb4fe",
   "metadata": {},
   "outputs": [
    {
     "name": "stdout",
     "output_type": "stream",
     "text": [
      "Class name for 9 : truck\n"
     ]
    }
   ],
   "source": [
    "print(\"Class name for {} : {}\".format(predicted.item(), class_names[predicted.item()]))"
   ]
  },
  {
   "cell_type": "code",
   "execution_count": null,
   "id": "55c6e9ca",
   "metadata": {},
   "outputs": [],
   "source": []
  }
 ],
 "metadata": {
  "kernelspec": {
   "display_name": "torchenv",
   "language": "python",
   "name": "torchenv"
  },
  "language_info": {
   "codemirror_mode": {
    "name": "ipython",
    "version": 3
   },
   "file_extension": ".py",
   "mimetype": "text/x-python",
   "name": "python",
   "nbconvert_exporter": "python",
   "pygments_lexer": "ipython3",
   "version": "3.10.5"
  }
 },
 "nbformat": 4,
 "nbformat_minor": 5
}
