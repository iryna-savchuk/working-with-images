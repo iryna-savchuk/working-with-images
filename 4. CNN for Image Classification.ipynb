{
 "cells": [
  {
   "cell_type": "markdown",
   "id": "0b9bf32a",
   "metadata": {},
   "source": [
    "### Theoretical concepts\n",
    "\n",
    "**Local Receptive Fields**\n",
    "\n",
    "When viewing an image, all neurons in the eye do not see the entire image. Each neuron has its own local receptive field, so neurons are focusin on only portion of the image and not the entire image. "
   ]
  },
  {
   "cell_type": "code",
   "execution_count": null,
   "id": "bc17fb22",
   "metadata": {},
   "outputs": [],
   "source": []
  }
 ],
 "metadata": {
  "kernelspec": {
   "display_name": "torchenv",
   "language": "python",
   "name": "torchenv"
  },
  "language_info": {
   "codemirror_mode": {
    "name": "ipython",
    "version": 3
   },
   "file_extension": ".py",
   "mimetype": "text/x-python",
   "name": "python",
   "nbconvert_exporter": "python",
   "pygments_lexer": "ipython3",
   "version": "3.10.5"
  }
 },
 "nbformat": 4,
 "nbformat_minor": 5
}
