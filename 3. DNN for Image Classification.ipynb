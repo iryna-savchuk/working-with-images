{
 "cells": [
  {
   "cell_type": "markdown",
   "id": "43dfa282",
   "metadata": {},
   "source": [
    "**Description**\n",
    "\n",
    "This notebook is created to understand how Deep Neural Networks (DNNs) can be used for image classification problems. Though this method is NOT RECOMMENDED, it is possible to use DNNs to classify images. \n",
    "\n",
    "**Dataset**\n",
    "\n",
    "For the demo, the MNIST datasest will be used to train the DNN (this dataset is commonly used to train image processing systems).\n",
    "\n",
    "MNIST is handwritten digits database, which contains large quantity of handwritten digits from 0 to 9. Each digit is in grayscale, so we will be dealing with a single channel images. Every image in the dataset is standardized to be 28 * 28 pixels, giving 784 pixels for each image. \n",
    "\n",
    "The MNIST handwritten digits dataset is available here:\n",
    "http://yann.lecun.com/exdb/mnist and https://www.kaggle.com/datasets/oddrationale/mnist-in-csv"
   ]
  },
  {
   "cell_type": "markdown",
   "id": "8d6413db",
   "metadata": {},
   "source": [
    "**Parameters Explosion:**\n",
    "   - Consider a 100 * 100 pixel image (10,000 pixels per image) -->> the first layer will contain 10,000 neurons.\n",
    "   - Interconnections between this layer and the next layer ~O(10,000 * 10,000)\n",
    "   - Now, we would already have 100 million parameters to train a fully-connected neural network!\n",
    "   - The time needed to train so many parameters will be huge\n",
    "   \n",
    "Thus, dense, fully connected neural networks can't really cope with image data.\n",
    "Also, they do not provide feature extraction with locatin invariance. DNNs do not consider the spacial aspects of images. "
   ]
  },
  {
   "cell_type": "markdown",
   "id": "727f1d46",
   "metadata": {},
   "source": [
    "### Loading the data"
   ]
  },
  {
   "cell_type": "code",
   "execution_count": 1,
   "id": "49ed3d45",
   "metadata": {},
   "outputs": [],
   "source": [
    "import pandas as pd\n",
    "import numpy as np\n",
    "import matplotlib.pyplot as plt\n",
    "\n",
    "import torch"
   ]
  },
  {
   "cell_type": "code",
   "execution_count": 2,
   "id": "46b9c1d9",
   "metadata": {},
   "outputs": [
    {
     "data": {
      "text/plain": [
       "((60000, 785), (10000, 785))"
      ]
     },
     "execution_count": 2,
     "metadata": {},
     "output_type": "execute_result"
    }
   ],
   "source": [
    "mnist_train = pd.read_csv('datasets/mnist-in-csv/mnist_train.csv')\n",
    "mnist_test = pd.read_csv('datasets/mnist-in-csv/mnist_test.csv')\n",
    "\n",
    "mnist_train.shape, mnist_test.shape"
   ]
  },
  {
   "cell_type": "code",
   "execution_count": 3,
   "id": "dbebe920",
   "metadata": {},
   "outputs": [
    {
     "data": {
      "text/html": [
       "<div>\n",
       "<style scoped>\n",
       "    .dataframe tbody tr th:only-of-type {\n",
       "        vertical-align: middle;\n",
       "    }\n",
       "\n",
       "    .dataframe tbody tr th {\n",
       "        vertical-align: top;\n",
       "    }\n",
       "\n",
       "    .dataframe thead th {\n",
       "        text-align: right;\n",
       "    }\n",
       "</style>\n",
       "<table border=\"1\" class=\"dataframe\">\n",
       "  <thead>\n",
       "    <tr style=\"text-align: right;\">\n",
       "      <th></th>\n",
       "      <th>label</th>\n",
       "      <th>1x1</th>\n",
       "      <th>1x2</th>\n",
       "      <th>1x3</th>\n",
       "      <th>1x4</th>\n",
       "      <th>1x5</th>\n",
       "      <th>1x6</th>\n",
       "      <th>1x7</th>\n",
       "      <th>1x8</th>\n",
       "      <th>1x9</th>\n",
       "      <th>...</th>\n",
       "      <th>28x19</th>\n",
       "      <th>28x20</th>\n",
       "      <th>28x21</th>\n",
       "      <th>28x22</th>\n",
       "      <th>28x23</th>\n",
       "      <th>28x24</th>\n",
       "      <th>28x25</th>\n",
       "      <th>28x26</th>\n",
       "      <th>28x27</th>\n",
       "      <th>28x28</th>\n",
       "    </tr>\n",
       "  </thead>\n",
       "  <tbody>\n",
       "    <tr>\n",
       "      <th>0</th>\n",
       "      <td>5</td>\n",
       "      <td>0</td>\n",
       "      <td>0</td>\n",
       "      <td>0</td>\n",
       "      <td>0</td>\n",
       "      <td>0</td>\n",
       "      <td>0</td>\n",
       "      <td>0</td>\n",
       "      <td>0</td>\n",
       "      <td>0</td>\n",
       "      <td>...</td>\n",
       "      <td>0</td>\n",
       "      <td>0</td>\n",
       "      <td>0</td>\n",
       "      <td>0</td>\n",
       "      <td>0</td>\n",
       "      <td>0</td>\n",
       "      <td>0</td>\n",
       "      <td>0</td>\n",
       "      <td>0</td>\n",
       "      <td>0</td>\n",
       "    </tr>\n",
       "    <tr>\n",
       "      <th>1</th>\n",
       "      <td>0</td>\n",
       "      <td>0</td>\n",
       "      <td>0</td>\n",
       "      <td>0</td>\n",
       "      <td>0</td>\n",
       "      <td>0</td>\n",
       "      <td>0</td>\n",
       "      <td>0</td>\n",
       "      <td>0</td>\n",
       "      <td>0</td>\n",
       "      <td>...</td>\n",
       "      <td>0</td>\n",
       "      <td>0</td>\n",
       "      <td>0</td>\n",
       "      <td>0</td>\n",
       "      <td>0</td>\n",
       "      <td>0</td>\n",
       "      <td>0</td>\n",
       "      <td>0</td>\n",
       "      <td>0</td>\n",
       "      <td>0</td>\n",
       "    </tr>\n",
       "    <tr>\n",
       "      <th>2</th>\n",
       "      <td>4</td>\n",
       "      <td>0</td>\n",
       "      <td>0</td>\n",
       "      <td>0</td>\n",
       "      <td>0</td>\n",
       "      <td>0</td>\n",
       "      <td>0</td>\n",
       "      <td>0</td>\n",
       "      <td>0</td>\n",
       "      <td>0</td>\n",
       "      <td>...</td>\n",
       "      <td>0</td>\n",
       "      <td>0</td>\n",
       "      <td>0</td>\n",
       "      <td>0</td>\n",
       "      <td>0</td>\n",
       "      <td>0</td>\n",
       "      <td>0</td>\n",
       "      <td>0</td>\n",
       "      <td>0</td>\n",
       "      <td>0</td>\n",
       "    </tr>\n",
       "    <tr>\n",
       "      <th>3</th>\n",
       "      <td>1</td>\n",
       "      <td>0</td>\n",
       "      <td>0</td>\n",
       "      <td>0</td>\n",
       "      <td>0</td>\n",
       "      <td>0</td>\n",
       "      <td>0</td>\n",
       "      <td>0</td>\n",
       "      <td>0</td>\n",
       "      <td>0</td>\n",
       "      <td>...</td>\n",
       "      <td>0</td>\n",
       "      <td>0</td>\n",
       "      <td>0</td>\n",
       "      <td>0</td>\n",
       "      <td>0</td>\n",
       "      <td>0</td>\n",
       "      <td>0</td>\n",
       "      <td>0</td>\n",
       "      <td>0</td>\n",
       "      <td>0</td>\n",
       "    </tr>\n",
       "    <tr>\n",
       "      <th>4</th>\n",
       "      <td>9</td>\n",
       "      <td>0</td>\n",
       "      <td>0</td>\n",
       "      <td>0</td>\n",
       "      <td>0</td>\n",
       "      <td>0</td>\n",
       "      <td>0</td>\n",
       "      <td>0</td>\n",
       "      <td>0</td>\n",
       "      <td>0</td>\n",
       "      <td>...</td>\n",
       "      <td>0</td>\n",
       "      <td>0</td>\n",
       "      <td>0</td>\n",
       "      <td>0</td>\n",
       "      <td>0</td>\n",
       "      <td>0</td>\n",
       "      <td>0</td>\n",
       "      <td>0</td>\n",
       "      <td>0</td>\n",
       "      <td>0</td>\n",
       "    </tr>\n",
       "  </tbody>\n",
       "</table>\n",
       "<p>5 rows × 785 columns</p>\n",
       "</div>"
      ],
      "text/plain": [
       "   label  1x1  1x2  1x3  1x4  1x5  1x6  1x7  1x8  1x9  ...  28x19  28x20  \\\n",
       "0      5    0    0    0    0    0    0    0    0    0  ...      0      0   \n",
       "1      0    0    0    0    0    0    0    0    0    0  ...      0      0   \n",
       "2      4    0    0    0    0    0    0    0    0    0  ...      0      0   \n",
       "3      1    0    0    0    0    0    0    0    0    0  ...      0      0   \n",
       "4      9    0    0    0    0    0    0    0    0    0  ...      0      0   \n",
       "\n",
       "   28x21  28x22  28x23  28x24  28x25  28x26  28x27  28x28  \n",
       "0      0      0      0      0      0      0      0      0  \n",
       "1      0      0      0      0      0      0      0      0  \n",
       "2      0      0      0      0      0      0      0      0  \n",
       "3      0      0      0      0      0      0      0      0  \n",
       "4      0      0      0      0      0      0      0      0  \n",
       "\n",
       "[5 rows x 785 columns]"
      ]
     },
     "execution_count": 3,
     "metadata": {},
     "output_type": "execute_result"
    }
   ],
   "source": [
    "mnist_train.head()"
   ]
  },
  {
   "cell_type": "code",
   "execution_count": 4,
   "id": "63611f52",
   "metadata": {},
   "outputs": [
    {
     "data": {
      "text/plain": [
       "(1, 784)"
      ]
     },
     "execution_count": 4,
     "metadata": {},
     "output_type": "execute_result"
    }
   ],
   "source": [
    "# Let's have a look at one image from the dataset\n",
    "img = mnist_train[1:2]\n",
    "img = img.drop('label', axis=1)\n",
    "img = img.values\n",
    "img.shape"
   ]
  },
  {
   "cell_type": "code",
   "execution_count": 5,
   "id": "c77ac7b4",
   "metadata": {},
   "outputs": [
    {
     "data": {
      "text/plain": [
       "(1, 28, 28)"
      ]
     },
     "execution_count": 5,
     "metadata": {},
     "output_type": "execute_result"
    }
   ],
   "source": [
    "# Reshape img to be a single-channeled image\n",
    "img = img.reshape(1, 28, 28)\n",
    "img.shape"
   ]
  },
  {
   "cell_type": "code",
   "execution_count": 6,
   "id": "b5811eeb",
   "metadata": {},
   "outputs": [
    {
     "data": {
      "text/plain": [
       "(28, 28)"
      ]
     },
     "execution_count": 6,
     "metadata": {},
     "output_type": "execute_result"
    }
   ],
   "source": [
    "img = img.squeeze() # quickly eliminating the dimension that just have single values\n",
    "img.shape"
   ]
  },
  {
   "cell_type": "code",
   "execution_count": 7,
   "id": "d6ffd3c9",
   "metadata": {},
   "outputs": [
    {
     "data": {
      "image/png": "[encoded data removed]",
      "text/plain": [
       "<Figure size 600x600 with 1 Axes>"
      ]
     },
     "metadata": {},
     "output_type": "display_data"
    }
   ],
   "source": [
    "# Displaying the image with Matplotlib\n",
    "plt.figure(figsize= (6, 6))\n",
    "plt.imshow(img)\n",
    "plt.show()"
   ]
  },
  {
   "cell_type": "code",
   "execution_count": 8,
   "id": "742b6f9f",
   "metadata": {},
   "outputs": [],
   "source": [
    "mnist_train = mnist_train.dropna()\n",
    "mnist_test = mnist_test.dropna()"
   ]
  },
  {
   "cell_type": "code",
   "execution_count": 9,
   "id": "c6c10ccd",
   "metadata": {},
   "outputs": [],
   "source": [
    "mnist_train_features = mnist_train.drop('label', axis=1)\n",
    "mnist_train_target = mnist_train['label']\n",
    "\n",
    "mnist_test_features = mnist_test.drop('label', axis=1)\n",
    "mnist_test_target = mnist_test['label']"
   ]
  },
  {
   "cell_type": "code",
   "execution_count": 10,
   "id": "d58c86b2",
   "metadata": {},
   "outputs": [
    {
     "name": "stdout",
     "output_type": "stream",
     "text": [
      "train max -  255\n",
      "train min -  0\n",
      "test max -  255\n",
      "test min -  0\n"
     ]
    }
   ],
   "source": [
    "print(\"train max - \", mnist_train_features.values.max())\n",
    "print(\"train min - \", mnist_train_features.values.min())\n",
    "print(\"test max - \", mnist_test_features.values.max())\n",
    "print(\"test min - \", mnist_test_features.values.min())"
   ]
  },
  {
   "cell_type": "code",
   "execution_count": 11,
   "id": "d031dbfd",
   "metadata": {},
   "outputs": [
    {
     "name": "stdout",
     "output_type": "stream",
     "text": [
      "train max -  1.0\n",
      "train min -  0.0\n",
      "test max -  1.0\n",
      "test min -  0.0\n"
     ]
    }
   ],
   "source": [
    "mnist_train_features = mnist_train_features.astype('float32')\n",
    "mnist_train_features = mnist_train_features/255\n",
    "mnist_test_features = mnist_test_features.astype('float32')\n",
    "mnist_test_features = mnist_test_features/255\n",
    "\n",
    "print(\"train max - \", mnist_train_features.values.max())\n",
    "print(\"train min - \", mnist_train_features.values.min())\n",
    "print(\"test max - \", mnist_test_features.values.max())\n",
    "print(\"test min - \", mnist_test_features.values.min())"
   ]
  },
  {
   "cell_type": "code",
   "execution_count": 12,
   "id": "26380e16",
   "metadata": {},
   "outputs": [],
   "source": [
    "# Creating torch tensors that will be used in DNN training process\n",
    "X_train_tensor = torch.tensor(mnist_train_features.values, dtype=torch.float)\n",
    "X_test_tensor = torch.tensor(mnist_test_features.values, dtype=torch.float)\n",
    "\n",
    "Y_train_tensor = torch.tensor(mnist_train_target.values, dtype=torch.long)\n",
    "Y_test_tensor = torch.tensor(mnist_test_target.values, dtype=torch.long)"
   ]
  },
  {
   "cell_type": "code",
   "execution_count": 13,
   "id": "0fe36dbc",
   "metadata": {},
   "outputs": [
    {
     "data": {
      "text/plain": [
       "(torch.Size([60000, 784]), torch.Size([60000]))"
      ]
     },
     "execution_count": 13,
     "metadata": {},
     "output_type": "execute_result"
    }
   ],
   "source": [
    "X_train_tensor.shape, Y_train_tensor.shape"
   ]
  },
  {
   "cell_type": "code",
   "execution_count": 14,
   "id": "d9d37f29",
   "metadata": {},
   "outputs": [
    {
     "data": {
      "text/plain": [
       "(torch.Size([10000, 784]), torch.Size([10000]))"
      ]
     },
     "execution_count": 14,
     "metadata": {},
     "output_type": "execute_result"
    }
   ],
   "source": [
    "X_test_tensor.shape, Y_test_tensor.shape"
   ]
  },
  {
   "cell_type": "markdown",
   "id": "26691c8f",
   "metadata": {},
   "source": [
    "### Setting up a Fully Connected NN for image classification"
   ]
  },
  {
   "cell_type": "code",
   "execution_count": 15,
   "id": "ac78ae06",
   "metadata": {},
   "outputs": [],
   "source": [
    "import torch.nn as nn"
   ]
  },
  {
   "cell_type": "code",
   "execution_count": 16,
   "id": "d9705f8e",
   "metadata": {},
   "outputs": [],
   "source": [
    "input_size = 784\n",
    "output_size = 10\n",
    "\n",
    "hidden1_size = 16\n",
    "hidden2_size = 32"
   ]
  },
  {
   "cell_type": "code",
   "execution_count": 17,
   "id": "2f96aa2d",
   "metadata": {},
   "outputs": [],
   "source": [
    "class Net(nn.Module):\n",
    "    \n",
    "    def __init__(self):\n",
    "        super(Net, self).__init__()\n",
    "        self.fc1 = nn.Linear(input_size, hidden1_size)\n",
    "        self.fc2 = nn.Linear(hidden1_size, hidden2_size)\n",
    "        self.fc3 = nn.Linear(hidden2_size, output_size)\n",
    "        \n",
    "        \n",
    "    def forward(self, x):\n",
    "        x = torch.sigmoid(self.fc1(x))\n",
    "        x = torch.sigmoid(self.fc2(x))\n",
    "        x = self.fc3(x)\n",
    "        return torch.log_softmax(x, dim=-1)  # equivalent to log(softmax()) and used with NLLLoss function\n",
    "                                             # stable numerically and has better performance"
   ]
  },
  {
   "cell_type": "markdown",
   "id": "b52b8dbb",
   "metadata": {},
   "source": [
    "### Training the Fully Connected NN"
   ]
  },
  {
   "cell_type": "code",
   "execution_count": 18,
   "id": "66ba33a8",
   "metadata": {},
   "outputs": [],
   "source": [
    "model = Net()"
   ]
  },
  {
   "cell_type": "code",
   "execution_count": 19,
   "id": "a15e77da",
   "metadata": {},
   "outputs": [
    {
     "name": "stdout",
     "output_type": "stream",
     "text": [
      "cpu\n"
     ]
    }
   ],
   "source": [
    "device = torch.device(\"cuda:0\" if torch.cuda.is_available() else \"cpu\")\n",
    "print(device)"
   ]
  },
  {
   "cell_type": "code",
   "execution_count": 20,
   "id": "3ab6b202",
   "metadata": {},
   "outputs": [
    {
     "data": {
      "text/plain": [
       "Net(\n",
       "  (fc1): Linear(in_features=784, out_features=16, bias=True)\n",
       "  (fc2): Linear(in_features=16, out_features=32, bias=True)\n",
       "  (fc3): Linear(in_features=32, out_features=10, bias=True)\n",
       ")"
      ]
     },
     "execution_count": 20,
     "metadata": {},
     "output_type": "execute_result"
    }
   ],
   "source": [
    "model.to(device)"
   ]
  },
  {
   "cell_type": "code",
   "execution_count": 21,
   "id": "92783753",
   "metadata": {},
   "outputs": [],
   "source": [
    "X_train_tensor = X_train_tensor.to(device)\n",
    "X_test_tensor = X_test_tensor.to(device)\n",
    "Y_train_tensor = Y_train_tensor.to(device)\n",
    "Y_test_tensor = Y_test_tensor.to(device)"
   ]
  },
  {
   "cell_type": "code",
   "execution_count": 22,
   "id": "a570a69f",
   "metadata": {},
   "outputs": [],
   "source": [
    "import torch.optim as optim\n",
    "\n",
    "optimizer = optim.Adam(model.parameters())\n",
    "loss_fn = nn.NLLLoss()\n",
    "epochs = 500"
   ]
  },
  {
   "cell_type": "code",
   "execution_count": 23,
   "id": "297be588",
   "metadata": {},
   "outputs": [
    {
     "name": "stdout",
     "output_type": "stream",
     "text": [
      "Epoch - 10, loss - 2.29 \n",
      "Epoch - 20, loss - 2.27 \n",
      "Epoch - 30, loss - 2.25 \n",
      "Epoch - 40, loss - 2.22 \n",
      "Epoch - 50, loss - 2.18 \n",
      "Epoch - 60, loss - 2.13 \n",
      "Epoch - 70, loss - 2.08 \n",
      "Epoch - 80, loss - 2.02 \n",
      "Epoch - 90, loss - 1.95 \n",
      "Epoch - 100, loss - 1.88 \n",
      "Epoch - 110, loss - 1.81 \n",
      "Epoch - 120, loss - 1.74 \n",
      "Epoch - 130, loss - 1.68 \n",
      "Epoch - 140, loss - 1.61 \n",
      "Epoch - 150, loss - 1.56 \n",
      "Epoch - 160, loss - 1.50 \n",
      "Epoch - 170, loss - 1.45 \n",
      "Epoch - 180, loss - 1.40 \n",
      "Epoch - 190, loss - 1.35 \n",
      "Epoch - 200, loss - 1.30 \n",
      "Epoch - 210, loss - 1.26 \n",
      "Epoch - 220, loss - 1.22 \n",
      "Epoch - 230, loss - 1.18 \n",
      "Epoch - 240, loss - 1.14 \n",
      "Epoch - 250, loss - 1.11 \n",
      "Epoch - 260, loss - 1.08 \n",
      "Epoch - 270, loss - 1.04 \n",
      "Epoch - 280, loss - 1.02 \n",
      "Epoch - 290, loss - 0.99 \n",
      "Epoch - 300, loss - 0.96 \n",
      "Epoch - 310, loss - 0.94 \n",
      "Epoch - 320, loss - 0.91 \n",
      "Epoch - 330, loss - 0.89 \n",
      "Epoch - 340, loss - 0.87 \n",
      "Epoch - 350, loss - 0.85 \n",
      "Epoch - 360, loss - 0.83 \n",
      "Epoch - 370, loss - 0.81 \n",
      "Epoch - 380, loss - 0.79 \n",
      "Epoch - 390, loss - 0.77 \n",
      "Epoch - 400, loss - 0.75 \n",
      "Epoch - 410, loss - 0.73 \n",
      "Epoch - 420, loss - 0.72 \n",
      "Epoch - 430, loss - 0.70 \n",
      "Epoch - 440, loss - 0.68 \n",
      "Epoch - 450, loss - 0.67 \n",
      "Epoch - 460, loss - 0.65 \n",
      "Epoch - 470, loss - 0.64 \n",
      "Epoch - 480, loss - 0.62 \n",
      "Epoch - 490, loss - 0.61 \n",
      "Epoch - 500, loss - 0.59 \n"
     ]
    }
   ],
   "source": [
    "for epoch in range(1, epochs+1):\n",
    "    \n",
    "    optimizer.zero_grad()\n",
    "    Y_pred = model(X_train_tensor)\n",
    "    \n",
    "    loss = loss_fn(Y_pred, Y_train_tensor)\n",
    "    loss.backward() # compute gradients\n",
    "    \n",
    "    optimizer.step() # updating the model parameters\n",
    "    \n",
    "    if epoch % 10 ==0:\n",
    "        print('Epoch - %d, loss - %0.2f ' %(epoch, loss.item()))"
   ]
  },
  {
   "cell_type": "markdown",
   "id": "8cd4efb9",
   "metadata": {},
   "source": [
    "### Making predictions"
   ]
  },
  {
   "cell_type": "code",
   "execution_count": 24,
   "id": "29abc1bf",
   "metadata": {},
   "outputs": [
    {
     "data": {
      "text/plain": [
       "Net(\n",
       "  (fc1): Linear(in_features=784, out_features=16, bias=True)\n",
       "  (fc2): Linear(in_features=16, out_features=32, bias=True)\n",
       "  (fc3): Linear(in_features=32, out_features=10, bias=True)\n",
       ")"
      ]
     },
     "execution_count": 24,
     "metadata": {},
     "output_type": "execute_result"
    }
   ],
   "source": [
    "model.eval() # layers and operations that should be applied only in training data (e.g. dropout and regularization)\n",
    "             # will be truned off"
   ]
  },
  {
   "cell_type": "code",
   "execution_count": 25,
   "id": "bbcd1876",
   "metadata": {},
   "outputs": [],
   "source": [
    "from sklearn.metrics import accuracy_score, precision_score, recall_score"
   ]
  },
  {
   "cell_type": "code",
   "execution_count": 26,
   "id": "82703027",
   "metadata": {},
   "outputs": [
    {
     "name": "stdout",
     "output_type": "stream",
     "text": [
      "Accuracy:  0.8701\n",
      "Precision:  0.8740288783074267\n",
      "Recall:  0.8701\n"
     ]
    }
   ],
   "source": [
    "with torch.no_grad():\n",
    "    correct = 0\n",
    "    total = 0\n",
    "    \n",
    "    outputs = model(X_test_tensor)\n",
    "    _, predicted = torch.max(outputs.data, 1)\n",
    "    \n",
    "    Y_test = Y_test_tensor.cpu().numpy()\n",
    "    predicted = predicted.cpu()\n",
    "    \n",
    "    print(\"Accuracy: \", accuracy_score(predicted, Y_test))\n",
    "    print(\"Precision: \", precision_score(predicted, Y_test, average='weighted'))\n",
    "    print(\"Recall: \", recall_score(predicted, Y_test, average='weighted'))"
   ]
  },
  {
   "cell_type": "code",
   "execution_count": null,
   "id": "74664d3c",
   "metadata": {},
   "outputs": [],
   "source": []
  }
 ],
 "metadata": {
  "kernelspec": {
   "display_name": "torchenv",
   "language": "python",
   "name": "torchenv"
  },
  "language_info": {
   "codemirror_mode": {
    "name": "ipython",
    "version": 3
   },
   "file_extension": ".py",
   "mimetype": "text/x-python",
   "name": "python",
   "nbconvert_exporter": "python",
   "pygments_lexer": "ipython3",
   "version": "3.10.5"
  }
 },
 "nbformat": 4,
 "nbformat_minor": 5
}
